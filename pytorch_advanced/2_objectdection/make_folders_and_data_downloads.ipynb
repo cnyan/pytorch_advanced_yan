{
 "cells": [
  {
   "cell_type": "code",
   "execution_count": 6,
   "metadata": {},
   "outputs": [],
   "source": [
    "import os\n",
    "import urllib.request\n",
    "import zipfile\n",
    "import tarfile\n",
    "import sys"
   ]
  },
  {
   "cell_type": "code",
   "execution_count": 7,
   "metadata": {},
   "outputs": [],
   "source": [
    "data_dir = r'../0_datasets/2_VOC2012/'\n",
    "if not os.path.exists(data_dir):\n",
    "    os.mkdir(data_dir)"
   ]
  },
  {
   "cell_type": "code",
   "execution_count": 8,
   "metadata": {},
   "outputs": [],
   "source": [
    "weights_dir = r'../0_pre_model/'\n",
    "if not os.path.exists(weights_dir):\n",
    "    os.mkdir(weights_dir)"
   ]
  },
  {
   "cell_type": "code",
   "execution_count": 9,
   "metadata": {},
   "outputs": [],
   "source": [
    "import torch.utils.data as data\n",
    "from torchvision.datasets.utils import download_url, check_integrity\n",
    "\n",
    "target_path = os.path.join(data_dir,\"VOCtrainval_11-May-2012.tar\")\n",
    "    \n",
    "def download_voc12(url, root, filename, md5):\n",
    "    download_url(url, root, filename, md5)\n",
    "    with tarfile.open(os.path.join(root, filename), \"r\") as tar:\n",
    "        tar.extractall(path=root)\n",
    "\n",
    "def main_download():\n",
    "    url = 'http://host.robots.ox.ac.uk/pascal/VOC/voc2012/VOCtrainval_11-May-2012.tar'\n",
    "    filename = 'VOCtrainval_11-May-2012.tar'\n",
    "    md5 = '6cd6e144f989b92b3379bac3b3de84fd'\n",
    "    download_voc12(url, target_path, filename, md5)\n",
    "    \n",
    "# main_download()"
   ]
  },
  {
   "cell_type": "code",
   "execution_count": 10,
   "metadata": {},
   "outputs": [
    {
     "name": "stdout",
     "output_type": "stream",
     "text": [
      "../0_datasets/2_VOC2012/.gitignore\n",
      "../0_datasets/2_VOC2012/VOCtrainval_11-May-2012.tar\n"
     ]
    },
    {
     "ename": "KeyboardInterrupt",
     "evalue": "",
     "output_type": "error",
     "traceback": [
      "\u001b[1;31m---------------------------------------------------------------------------\u001b[0m",
      "\u001b[1;31mKeyboardInterrupt\u001b[0m                         Traceback (most recent call last)",
      "\u001b[1;32mg:\\yanjilong\\DEV\\VS Code\\pytorch_advanced_yan\\pytorch_advanced\\2_objectdection\\make_folders_and_data_downloads.ipynb 单元格 5\u001b[0m in \u001b[0;36m<cell line: 19>\u001b[1;34m()\u001b[0m\n\u001b[0;32m     <a href='vscode-notebook-cell:/g%3A/yanjilong/DEV/VS%20Code/pytorch_advanced_yan/pytorch_advanced/2_objectdection/make_folders_and_data_downloads.ipynb#W4sZmlsZQ%3D%3D?line=18'>19</a>\u001b[0m \u001b[39mif\u001b[39;00m os\u001b[39m.\u001b[39mpath\u001b[39m.\u001b[39mexists(target_path):\n\u001b[0;32m     <a href='vscode-notebook-cell:/g%3A/yanjilong/DEV/VS%20Code/pytorch_advanced_yan/pytorch_advanced/2_objectdection/make_folders_and_data_downloads.ipynb#W4sZmlsZQ%3D%3D?line=19'>20</a>\u001b[0m     tar \u001b[39m=\u001b[39m tarfile\u001b[39m.\u001b[39mTarFile(target_path)\n\u001b[1;32m---> <a href='vscode-notebook-cell:/g%3A/yanjilong/DEV/VS%20Code/pytorch_advanced_yan/pytorch_advanced/2_objectdection/make_folders_and_data_downloads.ipynb#W4sZmlsZQ%3D%3D?line=20'>21</a>\u001b[0m     tar\u001b[39m.\u001b[39;49mextractall(data_dir)\n\u001b[0;32m     <a href='vscode-notebook-cell:/g%3A/yanjilong/DEV/VS%20Code/pytorch_advanced_yan/pytorch_advanced/2_objectdection/make_folders_and_data_downloads.ipynb#W4sZmlsZQ%3D%3D?line=21'>22</a>\u001b[0m     tar\u001b[39m.\u001b[39mclose()\n",
      "File \u001b[1;32md:\\yanjilong\\anaconda3\\envs\\torch_env\\lib\\tarfile.py:2034\u001b[0m, in \u001b[0;36mTarFile.extractall\u001b[1;34m(self, path, members, numeric_owner)\u001b[0m\n\u001b[0;32m   2032\u001b[0m         tarinfo\u001b[39m.\u001b[39mmode \u001b[39m=\u001b[39m \u001b[39m0o700\u001b[39m\n\u001b[0;32m   2033\u001b[0m     \u001b[39m# Do not set_attrs directories, as we will do that further down\u001b[39;00m\n\u001b[1;32m-> 2034\u001b[0m     \u001b[39mself\u001b[39;49m\u001b[39m.\u001b[39;49mextract(tarinfo, path, set_attrs\u001b[39m=\u001b[39;49m\u001b[39mnot\u001b[39;49;00m tarinfo\u001b[39m.\u001b[39;49misdir(),\n\u001b[0;32m   2035\u001b[0m                  numeric_owner\u001b[39m=\u001b[39;49mnumeric_owner)\n\u001b[0;32m   2037\u001b[0m \u001b[39m# Reverse sort directories.\u001b[39;00m\n\u001b[0;32m   2038\u001b[0m directories\u001b[39m.\u001b[39msort(key\u001b[39m=\u001b[39m\u001b[39mlambda\u001b[39;00m a: a\u001b[39m.\u001b[39mname)\n",
      "File \u001b[1;32md:\\yanjilong\\anaconda3\\envs\\torch_env\\lib\\tarfile.py:2075\u001b[0m, in \u001b[0;36mTarFile.extract\u001b[1;34m(self, member, path, set_attrs, numeric_owner)\u001b[0m\n\u001b[0;32m   2072\u001b[0m     tarinfo\u001b[39m.\u001b[39m_link_target \u001b[39m=\u001b[39m os\u001b[39m.\u001b[39mpath\u001b[39m.\u001b[39mjoin(path, tarinfo\u001b[39m.\u001b[39mlinkname)\n\u001b[0;32m   2074\u001b[0m \u001b[39mtry\u001b[39;00m:\n\u001b[1;32m-> 2075\u001b[0m     \u001b[39mself\u001b[39;49m\u001b[39m.\u001b[39;49m_extract_member(tarinfo, os\u001b[39m.\u001b[39;49mpath\u001b[39m.\u001b[39;49mjoin(path, tarinfo\u001b[39m.\u001b[39;49mname),\n\u001b[0;32m   2076\u001b[0m                          set_attrs\u001b[39m=\u001b[39;49mset_attrs,\n\u001b[0;32m   2077\u001b[0m                          numeric_owner\u001b[39m=\u001b[39;49mnumeric_owner)\n\u001b[0;32m   2078\u001b[0m \u001b[39mexcept\u001b[39;00m \u001b[39mOSError\u001b[39;00m \u001b[39mas\u001b[39;00m e:\n\u001b[0;32m   2079\u001b[0m     \u001b[39mif\u001b[39;00m \u001b[39mself\u001b[39m\u001b[39m.\u001b[39merrorlevel \u001b[39m>\u001b[39m \u001b[39m0\u001b[39m:\n",
      "File \u001b[1;32md:\\yanjilong\\anaconda3\\envs\\torch_env\\lib\\tarfile.py:2147\u001b[0m, in \u001b[0;36mTarFile._extract_member\u001b[1;34m(self, tarinfo, targetpath, set_attrs, numeric_owner)\u001b[0m\n\u001b[0;32m   2144\u001b[0m     \u001b[39mself\u001b[39m\u001b[39m.\u001b[39m_dbg(\u001b[39m1\u001b[39m, tarinfo\u001b[39m.\u001b[39mname)\n\u001b[0;32m   2146\u001b[0m \u001b[39mif\u001b[39;00m tarinfo\u001b[39m.\u001b[39misreg():\n\u001b[1;32m-> 2147\u001b[0m     \u001b[39mself\u001b[39;49m\u001b[39m.\u001b[39;49mmakefile(tarinfo, targetpath)\n\u001b[0;32m   2148\u001b[0m \u001b[39melif\u001b[39;00m tarinfo\u001b[39m.\u001b[39misdir():\n\u001b[0;32m   2149\u001b[0m     \u001b[39mself\u001b[39m\u001b[39m.\u001b[39mmakedir(tarinfo, targetpath)\n",
      "File \u001b[1;32md:\\yanjilong\\anaconda3\\envs\\torch_env\\lib\\tarfile.py:2196\u001b[0m, in \u001b[0;36mTarFile.makefile\u001b[1;34m(self, tarinfo, targetpath)\u001b[0m\n\u001b[0;32m   2194\u001b[0m     target\u001b[39m.\u001b[39mtruncate()\n\u001b[0;32m   2195\u001b[0m \u001b[39melse\u001b[39;00m:\n\u001b[1;32m-> 2196\u001b[0m     copyfileobj(source, target, tarinfo\u001b[39m.\u001b[39;49msize, ReadError, bufsize)\n",
      "File \u001b[1;32md:\\yanjilong\\anaconda3\\envs\\torch_env\\lib\\tarfile.py:250\u001b[0m, in \u001b[0;36mcopyfileobj\u001b[1;34m(src, dst, length, exception, bufsize)\u001b[0m\n\u001b[0;32m    248\u001b[0m     \u001b[39mif\u001b[39;00m \u001b[39mlen\u001b[39m(buf) \u001b[39m<\u001b[39m bufsize:\n\u001b[0;32m    249\u001b[0m         \u001b[39mraise\u001b[39;00m exception(\u001b[39m\"\u001b[39m\u001b[39munexpected end of data\u001b[39m\u001b[39m\"\u001b[39m)\n\u001b[1;32m--> 250\u001b[0m     dst\u001b[39m.\u001b[39;49mwrite(buf)\n\u001b[0;32m    252\u001b[0m \u001b[39mif\u001b[39;00m remainder \u001b[39m!=\u001b[39m \u001b[39m0\u001b[39m:\n\u001b[0;32m    253\u001b[0m     buf \u001b[39m=\u001b[39m src\u001b[39m.\u001b[39mread(remainder)\n",
      "\u001b[1;31mKeyboardInterrupt\u001b[0m: "
     ]
    }
   ],
   "source": [
    "# url = \"http://host.robots.ox.ac.uk/pascal/VOC/voc2012/VOCtrainval_11-May-2012.tar\"\n",
    "\n",
    "url = \"https://pjreddie.com/media/files/VOCtrainval_11-May-2012.tar\"\n",
    "target_path = os.path.join(data_dir,\"VOCtrainval_11-May-2012.tar\")\n",
    "\n",
    "def _progress(block_num, block_size, total_size):\n",
    "    '''回调函数\n",
    "       @block_num: 已经下载的数据块\n",
    "       @block_size: 数据块的大小\n",
    "       @total_size: 远程文件的大小\n",
    "    '''\n",
    "    sys.stdout.write('\\r>> Downloading %s %.1f%%' % (\"VOCtrainval_11-May-2012.tar\",\n",
    "                     float(block_num * block_size) / float(total_size) * 100.0))\n",
    "print(os.path.join(data_dir,'.gitignore'))\n",
    "print(target_path)\n",
    "if not os.path.exists(target_path):\n",
    "    urllib.request.urlretrieve(url,target_path,_progress)\n",
    "\n",
    "if os.path.exists(target_path):\n",
    "    if not os.path.exists(os.path.join(data_dir,'VOCdevkit')):\n",
    "        tar = tarfile.TarFile(target_path)\n",
    "        tar.extractall(data_dir)\n",
    "        tar.close()"
   ]
  },
  {
   "cell_type": "code",
   "execution_count": null,
   "metadata": {},
   "outputs": [],
   "source": [
    "url = \"https://s3.amazonaws.com/amdegroot-models/vgg16_reducedfc.pth\"\n",
    "target_path = os.path.join(weights_dir, \"vgg16_reducedfc.pth\") \n",
    "\n",
    "if not os.path.exists(target_path):\n",
    "    urllib.request.urlretrieve(url, target_path)"
   ]
  },
  {
   "cell_type": "code",
   "execution_count": null,
   "metadata": {},
   "outputs": [],
   "source": [
    "# url = \"https://s3.amazonaws.com/amdegroot-models/ssd300_mAP_77.43_v2.pth\"\n",
    "url = \"https://s3.amazonaws.com/amdegroot-models/ssd300_mAP_77.43_v2.pth\"\n",
    "target_path = os.path.join(weights_dir, \"ssd300_mAP_77.43_v2.pth\") \n",
    "\n",
    "if not os.path.exists(target_path):\n",
    "    urllib.request.urlretrieve(url, target_path)"
   ]
  },
  {
   "cell_type": "code",
   "execution_count": null,
   "metadata": {},
   "outputs": [],
   "source": []
  }
 ],
 "metadata": {
  "kernelspec": {
   "display_name": "torch_env",
   "language": "python",
   "name": "python3"
  },
  "language_info": {
   "codemirror_mode": {
    "name": "ipython",
    "version": 3
   },
   "file_extension": ".py",
   "mimetype": "text/x-python",
   "name": "python",
   "nbconvert_exporter": "python",
   "pygments_lexer": "ipython3",
   "version": "3.9.0"
  },
  "orig_nbformat": 4
 },
 "nbformat": 4,
 "nbformat_minor": 2
}
