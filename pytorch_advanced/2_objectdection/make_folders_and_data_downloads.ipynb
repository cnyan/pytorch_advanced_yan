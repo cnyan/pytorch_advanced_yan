{
 "cells": [
  {
   "cell_type": "code",
   "execution_count": 11,
   "metadata": {},
   "outputs": [],
   "source": [
    "import os\n",
    "import urllib.request\n",
    "import zipfile\n",
    "import tarfile\n",
    "import sys"
   ]
  },
  {
   "cell_type": "code",
   "execution_count": 12,
   "metadata": {},
   "outputs": [],
   "source": [
    "data_dir = r'../0_datasets/2_VOC2012/'\n",
    "if not os.path.exists(data_dir):\n",
    "    os.mkdir(data_dir)"
   ]
  },
  {
   "cell_type": "code",
   "execution_count": 13,
   "metadata": {},
   "outputs": [],
   "source": [
    "weights_dir = r'../0_pre_model/'\n",
    "if not os.path.exists(weights_dir):\n",
    "    os.mkdir(weights_dir)"
   ]
  },
  {
   "cell_type": "code",
   "execution_count": 14,
   "metadata": {},
   "outputs": [],
   "source": [
    "import torch.utils.data as data\n",
    "from torchvision.datasets.utils import download_url, check_integrity\n",
    "\n",
    "target_path = os.path.join(data_dir,\"VOCtrainval_11-May-2012.tar\")\n",
    "    \n",
    "def download_voc12(url, root, filename, md5):\n",
    "    download_url(url, root, filename, md5)\n",
    "    with tarfile.open(os.path.join(root, filename), \"r\") as tar:\n",
    "        tar.extractall(path=root)\n",
    "\n",
    "def main_download():\n",
    "    url = 'http://host.robots.ox.ac.uk/pascal/VOC/voc2012/VOCtrainval_11-May-2012.tar'\n",
    "    filename = 'VOCtrainval_11-May-2012.tar'\n",
    "    md5 = '6cd6e144f989b92b3379bac3b3de84fd'\n",
    "    download_voc12(url, target_path, filename, md5)\n",
    "    \n",
    "# main_download()"
   ]
  },
  {
   "cell_type": "code",
   "execution_count": 15,
   "metadata": {},
   "outputs": [
    {
     "name": "stdout",
     "output_type": "stream",
     "text": [
      "../0_datasets/2_VOC2012/.gitignore\n",
      "../0_datasets/2_VOC2012/VOCtrainval_11-May-2012.tar\n"
     ]
    }
   ],
   "source": [
    "# url = \"http://host.robots.ox.ac.uk/pascal/VOC/voc2012/VOCtrainval_11-May-2012.tar\"\n",
    "\n",
    "url = \"https://pjreddie.com/media/files/VOCtrainval_11-May-2012.tar\"\n",
    "target_path = os.path.join(data_dir,\"VOCtrainval_11-May-2012.tar\")\n",
    "\n",
    "def _progress(block_num, block_size, total_size):\n",
    "    '''回调函数\n",
    "       @block_num: 已经下载的数据块\n",
    "       @block_size: 数据块的大小\n",
    "       @total_size: 远程文件的大小\n",
    "    '''\n",
    "    sys.stdout.write('\\r>> Downloading %s %.1f%%' % (\"VOCtrainval_11-May-2012.tar\",\n",
    "                     float(block_num * block_size) / float(total_size) * 100.0))\n",
    "print(os.path.join(data_dir,'.gitignore'))\n",
    "print(target_path)\n",
    "if not os.path.exists(target_path):\n",
    "    urllib.request.urlretrieve(url,target_path,_progress)\n",
    "\n",
    "if os.path.exists(target_path):\n",
    "    if not os.path.exists(os.path.join(data_dir,'VOCdevkit')):\n",
    "        tar = tarfile.TarFile(target_path)\n",
    "        tar.extractall(data_dir)\n",
    "        tar.close()"
   ]
  },
  {
   "cell_type": "code",
   "execution_count": 16,
   "metadata": {},
   "outputs": [],
   "source": [
    "url = \"https://s3.amazonaws.com/amdegroot-models/vgg16_reducedfc.pth\"\n",
    "target_path = os.path.join(weights_dir, \"vgg16_reducedfc.pth\") \n",
    "\n",
    "if not os.path.exists(target_path):\n",
    "    urllib.request.urlretrieve(url, target_path)"
   ]
  },
  {
   "cell_type": "code",
   "execution_count": 17,
   "metadata": {},
   "outputs": [],
   "source": [
    "# url = \"https://s3.amazonaws.com/amdegroot-models/ssd300_mAP_77.43_v2.pth\"\n",
    "url = \"https://s3.amazonaws.com/amdegroot-models/ssd300_mAP_77.43_v2.pth\"\n",
    "target_path = os.path.join(weights_dir, \"ssd300_mAP_77.43_v2.pth\") \n",
    "\n",
    "if not os.path.exists(target_path):\n",
    "    urllib.request.urlretrieve(url, target_path)"
   ]
  },
  {
   "cell_type": "code",
   "execution_count": null,
   "metadata": {},
   "outputs": [],
   "source": []
  }
 ],
 "metadata": {
  "kernelspec": {
   "display_name": "torch_env",
   "language": "python",
   "name": "python3"
  },
  "language_info": {
   "codemirror_mode": {
    "name": "ipython",
    "version": 3
   },
   "file_extension": ".py",
   "mimetype": "text/x-python",
   "name": "python",
   "nbconvert_exporter": "python",
   "pygments_lexer": "ipython3",
   "version": "3.9.0"
  },
  "orig_nbformat": 4
 },
 "nbformat": 4,
 "nbformat_minor": 2
}
