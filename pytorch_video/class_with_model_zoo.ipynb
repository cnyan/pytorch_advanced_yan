{
   "cells": [
      {
         "cell_type": "code",
         "execution_count": 5,
         "metadata": {},
         "outputs": [],
         "source": [
            "import torch\n",
            "import json\n",
            "from torchvision.transforms import Compose,Lambda\n",
            "from torchvision.transforms._transforms_video import CenterCropVideo,NormalizeVideo\n",
            "from pytorchvideo.data.encoded_video import EncodedVideo\n",
            "from pytorchvideo.transforms import ApplyTransformToKey,ShortSideScale,UniformTemporalSubsample,UniformCropVideo\n",
            "from typing import Dict"
         ]
      },
      {
         "cell_type": "code",
         "execution_count": 6,
         "metadata": {},
         "outputs": [
            {
               "ename": "RemoteDisconnected",
               "evalue": "Remote end closed connection without response",
               "output_type": "error",
               "traceback": [
                  "\u001b[0;31m---------------------------------------------------------------------------\u001b[0m",
                  "\u001b[0;31mRemoteDisconnected\u001b[0m                        Traceback (most recent call last)",
                  "Cell \u001b[0;32mIn[6], line 2\u001b[0m\n\u001b[1;32m      1\u001b[0m model_name \u001b[39m=\u001b[39m \u001b[39m'\u001b[39m\u001b[39mslowfast_r50\u001b[39m\u001b[39m'\u001b[39m\n\u001b[0;32m----> 2\u001b[0m model \u001b[39m=\u001b[39m torch\u001b[39m.\u001b[39;49mhub\u001b[39m.\u001b[39;49mload(\u001b[39m\"\u001b[39;49m\u001b[39m/pytorchvideofacebookresearch\u001b[39;49m\u001b[39m\"\u001b[39;49m, model\u001b[39m=\u001b[39;49mmodel_name, pretrained\u001b[39m=\u001b[39;49m\u001b[39mTrue\u001b[39;49;00m)\n\u001b[1;32m      3\u001b[0m \u001b[39m# model = torch.hub.load('./pre_model/SLOWFAST_8x8_R50.pyth',model=model_name,trust_repo=True,source='local')\u001b[39;00m\n\u001b[1;32m      4\u001b[0m \u001b[39m# 加载本地模型\u001b[39;00m\n\u001b[1;32m      5\u001b[0m device \u001b[39m=\u001b[39m \u001b[39m'\u001b[39m\u001b[39mcpu\u001b[39m\u001b[39m'\u001b[39m\n",
                  "File \u001b[0;32m~/miniconda3/envs/yan_torch/lib/python3.8/site-packages/torch/hub.py:555\u001b[0m, in \u001b[0;36mload\u001b[0;34m(repo_or_dir, model, source, trust_repo, force_reload, verbose, skip_validation, *args, **kwargs)\u001b[0m\n\u001b[1;32m    551\u001b[0m     \u001b[39mraise\u001b[39;00m \u001b[39mValueError\u001b[39;00m(\n\u001b[1;32m    552\u001b[0m         \u001b[39mf\u001b[39m\u001b[39m'\u001b[39m\u001b[39mUnknown source: \u001b[39m\u001b[39m\"\u001b[39m\u001b[39m{\u001b[39;00msource\u001b[39m}\u001b[39;00m\u001b[39m\"\u001b[39m\u001b[39m. Allowed values: \u001b[39m\u001b[39m\"\u001b[39m\u001b[39mgithub\u001b[39m\u001b[39m\"\u001b[39m\u001b[39m | \u001b[39m\u001b[39m\"\u001b[39m\u001b[39mlocal\u001b[39m\u001b[39m\"\u001b[39m\u001b[39m.\u001b[39m\u001b[39m'\u001b[39m)\n\u001b[1;32m    554\u001b[0m \u001b[39mif\u001b[39;00m source \u001b[39m==\u001b[39m \u001b[39m'\u001b[39m\u001b[39mgithub\u001b[39m\u001b[39m'\u001b[39m:\n\u001b[0;32m--> 555\u001b[0m     repo_or_dir \u001b[39m=\u001b[39m _get_cache_or_reload(repo_or_dir, force_reload, trust_repo, \u001b[39m\"\u001b[39;49m\u001b[39mload\u001b[39;49m\u001b[39m\"\u001b[39;49m,\n\u001b[1;32m    556\u001b[0m                                        verbose\u001b[39m=\u001b[39;49mverbose, skip_validation\u001b[39m=\u001b[39;49mskip_validation)\n\u001b[1;32m    558\u001b[0m model \u001b[39m=\u001b[39m _load_local(repo_or_dir, model, \u001b[39m*\u001b[39margs, \u001b[39m*\u001b[39m\u001b[39m*\u001b[39mkwargs)\n\u001b[1;32m    559\u001b[0m \u001b[39mreturn\u001b[39;00m model\n",
                  "File \u001b[0;32m~/miniconda3/envs/yan_torch/lib/python3.8/site-packages/torch/hub.py:199\u001b[0m, in \u001b[0;36m_get_cache_or_reload\u001b[0;34m(github, force_reload, trust_repo, calling_fn, verbose, skip_validation)\u001b[0m\n\u001b[1;32m    197\u001b[0m     os\u001b[39m.\u001b[39mmakedirs(hub_dir)\n\u001b[1;32m    198\u001b[0m \u001b[39m# Parse github repo information\u001b[39;00m\n\u001b[0;32m--> 199\u001b[0m repo_owner, repo_name, ref \u001b[39m=\u001b[39m _parse_repo_info(github)\n\u001b[1;32m    200\u001b[0m \u001b[39m# Github allows branch name with slash '/',\u001b[39;00m\n\u001b[1;32m    201\u001b[0m \u001b[39m# this causes confusion with path on both Linux and Windows.\u001b[39;00m\n\u001b[1;32m    202\u001b[0m \u001b[39m# Backslash is not allowed in Github branch name so no need to\u001b[39;00m\n\u001b[1;32m    203\u001b[0m \u001b[39m# to worry about it.\u001b[39;00m\n\u001b[1;32m    204\u001b[0m normalized_br \u001b[39m=\u001b[39m ref\u001b[39m.\u001b[39mreplace(\u001b[39m'\u001b[39m\u001b[39m/\u001b[39m\u001b[39m'\u001b[39m, \u001b[39m'\u001b[39m\u001b[39m_\u001b[39m\u001b[39m'\u001b[39m)\n",
                  "File \u001b[0;32m~/miniconda3/envs/yan_torch/lib/python3.8/site-packages/torch/hub.py:142\u001b[0m, in \u001b[0;36m_parse_repo_info\u001b[0;34m(github)\u001b[0m\n\u001b[1;32m    137\u001b[0m \u001b[39mif\u001b[39;00m ref \u001b[39mis\u001b[39;00m \u001b[39mNone\u001b[39;00m:\n\u001b[1;32m    138\u001b[0m     \u001b[39m# The ref wasn't specified by the user, so we need to figure out the\u001b[39;00m\n\u001b[1;32m    139\u001b[0m     \u001b[39m# default branch: main or master. Our assumption is that if main exists\u001b[39;00m\n\u001b[1;32m    140\u001b[0m     \u001b[39m# then it's the default branch, otherwise it's master.\u001b[39;00m\n\u001b[1;32m    141\u001b[0m     \u001b[39mtry\u001b[39;00m:\n\u001b[0;32m--> 142\u001b[0m         \u001b[39mwith\u001b[39;00m urlopen(\u001b[39mf\u001b[39;49m\u001b[39m\"\u001b[39;49m\u001b[39mhttps://github.com/\u001b[39;49m\u001b[39m{\u001b[39;49;00mrepo_owner\u001b[39m}\u001b[39;49;00m\u001b[39m/\u001b[39;49m\u001b[39m{\u001b[39;49;00mrepo_name\u001b[39m}\u001b[39;49;00m\u001b[39m/tree/main/\u001b[39;49m\u001b[39m\"\u001b[39;49m):\n\u001b[1;32m    143\u001b[0m             ref \u001b[39m=\u001b[39m \u001b[39m'\u001b[39m\u001b[39mmain\u001b[39m\u001b[39m'\u001b[39m\n\u001b[1;32m    144\u001b[0m     \u001b[39mexcept\u001b[39;00m HTTPError \u001b[39mas\u001b[39;00m e:\n",
                  "File \u001b[0;32m~/miniconda3/envs/yan_torch/lib/python3.8/urllib/request.py:222\u001b[0m, in \u001b[0;36murlopen\u001b[0;34m(url, data, timeout, cafile, capath, cadefault, context)\u001b[0m\n\u001b[1;32m    220\u001b[0m \u001b[39melse\u001b[39;00m:\n\u001b[1;32m    221\u001b[0m     opener \u001b[39m=\u001b[39m _opener\n\u001b[0;32m--> 222\u001b[0m \u001b[39mreturn\u001b[39;00m opener\u001b[39m.\u001b[39;49mopen(url, data, timeout)\n",
                  "File \u001b[0;32m~/miniconda3/envs/yan_torch/lib/python3.8/urllib/request.py:525\u001b[0m, in \u001b[0;36mOpenerDirector.open\u001b[0;34m(self, fullurl, data, timeout)\u001b[0m\n\u001b[1;32m    522\u001b[0m     req \u001b[39m=\u001b[39m meth(req)\n\u001b[1;32m    524\u001b[0m sys\u001b[39m.\u001b[39maudit(\u001b[39m'\u001b[39m\u001b[39murllib.Request\u001b[39m\u001b[39m'\u001b[39m, req\u001b[39m.\u001b[39mfull_url, req\u001b[39m.\u001b[39mdata, req\u001b[39m.\u001b[39mheaders, req\u001b[39m.\u001b[39mget_method())\n\u001b[0;32m--> 525\u001b[0m response \u001b[39m=\u001b[39m \u001b[39mself\u001b[39;49m\u001b[39m.\u001b[39;49m_open(req, data)\n\u001b[1;32m    527\u001b[0m \u001b[39m# post-process response\u001b[39;00m\n\u001b[1;32m    528\u001b[0m meth_name \u001b[39m=\u001b[39m protocol\u001b[39m+\u001b[39m\u001b[39m\"\u001b[39m\u001b[39m_response\u001b[39m\u001b[39m\"\u001b[39m\n",
                  "File \u001b[0;32m~/miniconda3/envs/yan_torch/lib/python3.8/urllib/request.py:542\u001b[0m, in \u001b[0;36mOpenerDirector._open\u001b[0;34m(self, req, data)\u001b[0m\n\u001b[1;32m    539\u001b[0m     \u001b[39mreturn\u001b[39;00m result\n\u001b[1;32m    541\u001b[0m protocol \u001b[39m=\u001b[39m req\u001b[39m.\u001b[39mtype\n\u001b[0;32m--> 542\u001b[0m result \u001b[39m=\u001b[39m \u001b[39mself\u001b[39;49m\u001b[39m.\u001b[39;49m_call_chain(\u001b[39mself\u001b[39;49m\u001b[39m.\u001b[39;49mhandle_open, protocol, protocol \u001b[39m+\u001b[39;49m\n\u001b[1;32m    543\u001b[0m                           \u001b[39m'\u001b[39;49m\u001b[39m_open\u001b[39;49m\u001b[39m'\u001b[39;49m, req)\n\u001b[1;32m    544\u001b[0m \u001b[39mif\u001b[39;00m result:\n\u001b[1;32m    545\u001b[0m     \u001b[39mreturn\u001b[39;00m result\n",
                  "File \u001b[0;32m~/miniconda3/envs/yan_torch/lib/python3.8/urllib/request.py:502\u001b[0m, in \u001b[0;36mOpenerDirector._call_chain\u001b[0;34m(self, chain, kind, meth_name, *args)\u001b[0m\n\u001b[1;32m    500\u001b[0m \u001b[39mfor\u001b[39;00m handler \u001b[39min\u001b[39;00m handlers:\n\u001b[1;32m    501\u001b[0m     func \u001b[39m=\u001b[39m \u001b[39mgetattr\u001b[39m(handler, meth_name)\n\u001b[0;32m--> 502\u001b[0m     result \u001b[39m=\u001b[39m func(\u001b[39m*\u001b[39;49margs)\n\u001b[1;32m    503\u001b[0m     \u001b[39mif\u001b[39;00m result \u001b[39mis\u001b[39;00m \u001b[39mnot\u001b[39;00m \u001b[39mNone\u001b[39;00m:\n\u001b[1;32m    504\u001b[0m         \u001b[39mreturn\u001b[39;00m result\n",
                  "File \u001b[0;32m~/miniconda3/envs/yan_torch/lib/python3.8/urllib/request.py:1397\u001b[0m, in \u001b[0;36mHTTPSHandler.https_open\u001b[0;34m(self, req)\u001b[0m\n\u001b[1;32m   1396\u001b[0m \u001b[39mdef\u001b[39;00m \u001b[39mhttps_open\u001b[39m(\u001b[39mself\u001b[39m, req):\n\u001b[0;32m-> 1397\u001b[0m     \u001b[39mreturn\u001b[39;00m \u001b[39mself\u001b[39;49m\u001b[39m.\u001b[39;49mdo_open(http\u001b[39m.\u001b[39;49mclient\u001b[39m.\u001b[39;49mHTTPSConnection, req,\n\u001b[1;32m   1398\u001b[0m         context\u001b[39m=\u001b[39;49m\u001b[39mself\u001b[39;49m\u001b[39m.\u001b[39;49m_context, check_hostname\u001b[39m=\u001b[39;49m\u001b[39mself\u001b[39;49m\u001b[39m.\u001b[39;49m_check_hostname)\n",
                  "File \u001b[0;32m~/miniconda3/envs/yan_torch/lib/python3.8/urllib/request.py:1358\u001b[0m, in \u001b[0;36mAbstractHTTPHandler.do_open\u001b[0;34m(self, http_class, req, **http_conn_args)\u001b[0m\n\u001b[1;32m   1356\u001b[0m     \u001b[39mexcept\u001b[39;00m \u001b[39mOSError\u001b[39;00m \u001b[39mas\u001b[39;00m err: \u001b[39m# timeout error\u001b[39;00m\n\u001b[1;32m   1357\u001b[0m         \u001b[39mraise\u001b[39;00m URLError(err)\n\u001b[0;32m-> 1358\u001b[0m     r \u001b[39m=\u001b[39m h\u001b[39m.\u001b[39;49mgetresponse()\n\u001b[1;32m   1359\u001b[0m \u001b[39mexcept\u001b[39;00m:\n\u001b[1;32m   1360\u001b[0m     h\u001b[39m.\u001b[39mclose()\n",
                  "File \u001b[0;32m~/miniconda3/envs/yan_torch/lib/python3.8/http/client.py:1348\u001b[0m, in \u001b[0;36mHTTPConnection.getresponse\u001b[0;34m(self)\u001b[0m\n\u001b[1;32m   1346\u001b[0m \u001b[39mtry\u001b[39;00m:\n\u001b[1;32m   1347\u001b[0m     \u001b[39mtry\u001b[39;00m:\n\u001b[0;32m-> 1348\u001b[0m         response\u001b[39m.\u001b[39;49mbegin()\n\u001b[1;32m   1349\u001b[0m     \u001b[39mexcept\u001b[39;00m \u001b[39mConnectionError\u001b[39;00m:\n\u001b[1;32m   1350\u001b[0m         \u001b[39mself\u001b[39m\u001b[39m.\u001b[39mclose()\n",
                  "File \u001b[0;32m~/miniconda3/envs/yan_torch/lib/python3.8/http/client.py:316\u001b[0m, in \u001b[0;36mHTTPResponse.begin\u001b[0;34m(self)\u001b[0m\n\u001b[1;32m    314\u001b[0m \u001b[39m# read until we get a non-100 response\u001b[39;00m\n\u001b[1;32m    315\u001b[0m \u001b[39mwhile\u001b[39;00m \u001b[39mTrue\u001b[39;00m:\n\u001b[0;32m--> 316\u001b[0m     version, status, reason \u001b[39m=\u001b[39m \u001b[39mself\u001b[39;49m\u001b[39m.\u001b[39;49m_read_status()\n\u001b[1;32m    317\u001b[0m     \u001b[39mif\u001b[39;00m status \u001b[39m!=\u001b[39m CONTINUE:\n\u001b[1;32m    318\u001b[0m         \u001b[39mbreak\u001b[39;00m\n",
                  "File \u001b[0;32m~/miniconda3/envs/yan_torch/lib/python3.8/http/client.py:285\u001b[0m, in \u001b[0;36mHTTPResponse._read_status\u001b[0;34m(self)\u001b[0m\n\u001b[1;32m    281\u001b[0m     \u001b[39mprint\u001b[39m(\u001b[39m\"\u001b[39m\u001b[39mreply:\u001b[39m\u001b[39m\"\u001b[39m, \u001b[39mrepr\u001b[39m(line))\n\u001b[1;32m    282\u001b[0m \u001b[39mif\u001b[39;00m \u001b[39mnot\u001b[39;00m line:\n\u001b[1;32m    283\u001b[0m     \u001b[39m# Presumably, the server closed the connection before\u001b[39;00m\n\u001b[1;32m    284\u001b[0m     \u001b[39m# sending a valid response.\u001b[39;00m\n\u001b[0;32m--> 285\u001b[0m     \u001b[39mraise\u001b[39;00m RemoteDisconnected(\u001b[39m\"\u001b[39m\u001b[39mRemote end closed connection without\u001b[39m\u001b[39m\"\u001b[39m\n\u001b[1;32m    286\u001b[0m                              \u001b[39m\"\u001b[39m\u001b[39m response\u001b[39m\u001b[39m\"\u001b[39m)\n\u001b[1;32m    287\u001b[0m \u001b[39mtry\u001b[39;00m:\n\u001b[1;32m    288\u001b[0m     version, status, reason \u001b[39m=\u001b[39m line\u001b[39m.\u001b[39msplit(\u001b[39mNone\u001b[39;00m, \u001b[39m2\u001b[39m)\n",
                  "\u001b[0;31mRemoteDisconnected\u001b[0m: Remote end closed connection without response"
               ]
            }
         ],
         "source": [
            "model_name = 'slowfast_r50'\n",
            "model = torch.hub.load(\"/pytorchvideofacebookresearch\", model=model_name, pretrained=True)\n",
            "# model = torch.hub.load('./pre_model/SLOWFAST_8x8_R50.pyth',model=model_name,trust_repo=True,source='local')\n",
            "# 加载本地模型\n",
            "device = 'cpu'\n",
            "model = model.to(device)\n",
            "model = model.eval()\n",
            "print(model)"
         ]
      },
      {
         "cell_type": "code",
         "execution_count": null,
         "metadata": {},
         "outputs": [],
         "source": [
            "with open('./dataset/class_names/kinetics_classnames.json','r') as f:\n",
            "    kinetics_classnames = json.load(f)\n",
            "    \n",
            "kinetics_id_to_classname = {}\n",
            "for k, v in kinetics_classnames.items():\n",
            "    kinetics_id_to_classname[v] = str(k).replace('\"',\"\") \n"
         ]
      },
      {
         "cell_type": "code",
         "execution_count": null,
         "metadata": {},
         "outputs": [],
         "source": []
      }
   ],
   "metadata": {
      "kernelspec": {
         "display_name": "yan_torch",
         "language": "python",
         "name": "python3"
      },
      "language_info": {
         "codemirror_mode": {
            "name": "ipython",
            "version": 3
         },
         "file_extension": ".py",
         "mimetype": "text/x-python",
         "name": "python",
         "nbconvert_exporter": "python",
         "pygments_lexer": "ipython3",
         "version": "3.8.16"
      },
      "orig_nbformat": 4
   },
   "nbformat": 4,
   "nbformat_minor": 2
}